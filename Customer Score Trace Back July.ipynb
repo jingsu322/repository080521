{
 "cells": [
  {
   "cell_type": "code",
   "execution_count": 1,
   "id": "d14d6b63",
   "metadata": {},
   "outputs": [],
   "source": [
    "import numpy as np\n",
    "import pandas as pd"
   ]
  },
  {
   "cell_type": "code",
   "execution_count": 2,
   "id": "38cafbaf",
   "metadata": {},
   "outputs": [],
   "source": [
    "df = pd.read_csv('Customer Score March.csv')\n",
    "dfc = pd.read_excel('2.xlsx')"
   ]
  },
  {
   "cell_type": "code",
   "execution_count": 3,
   "id": "d411702f",
   "metadata": {},
   "outputs": [],
   "source": [
    "# dfc drop duplicates and keep last record\n",
    "# join df, dfc\n",
    "# output csv"
   ]
  },
  {
   "cell_type": "code",
   "execution_count": 4,
   "id": "c6aab54a",
   "metadata": {},
   "outputs": [
    {
     "name": "stdout",
     "output_type": "stream",
     "text": [
      "<class 'pandas.core.frame.DataFrame'>\n",
      "RangeIndex: 3281 entries, 0 to 3280\n",
      "Data columns (total 6 columns):\n",
      " #   Column         Non-Null Count  Dtype \n",
      "---  ------         --------------  ----- \n",
      " 0   ID             3281 non-null   int64 \n",
      " 1   Company Name   3281 non-null   object\n",
      " 2   Frequency      3281 non-null   int64 \n",
      " 3   Recency        3281 non-null   int64 \n",
      " 4   Monetary       3281 non-null   int64 \n",
      " 5   Overall Score  3281 non-null   object\n",
      "dtypes: int64(4), object(2)\n",
      "memory usage: 153.9+ KB\n"
     ]
    }
   ],
   "source": [
    "df.info()"
   ]
  },
  {
   "cell_type": "code",
   "execution_count": 5,
   "id": "393f75f0",
   "metadata": {},
   "outputs": [
    {
     "name": "stdout",
     "output_type": "stream",
     "text": [
      "<class 'pandas.core.frame.DataFrame'>\n",
      "RangeIndex: 603 entries, 0 to 602\n",
      "Data columns (total 6 columns):\n",
      " #   Column         Non-Null Count  Dtype \n",
      "---  ------         --------------  ----- \n",
      " 0   ID             603 non-null    int64 \n",
      " 1   Company Name   603 non-null    object\n",
      " 2   Frequency      603 non-null    int64 \n",
      " 3   Recency        603 non-null    int64 \n",
      " 4   Monetary       603 non-null    int64 \n",
      " 5   Overall Score  603 non-null    object\n",
      "dtypes: int64(4), object(2)\n",
      "memory usage: 28.4+ KB\n"
     ]
    }
   ],
   "source": [
    "dfc.info()"
   ]
  },
  {
   "cell_type": "code",
   "execution_count": 6,
   "id": "c1750a5e",
   "metadata": {},
   "outputs": [],
   "source": [
    "dfc = dfc.drop_duplicates(subset=['ID'], keep='last')"
   ]
  },
  {
   "cell_type": "code",
   "execution_count": 7,
   "id": "9d436ac1",
   "metadata": {},
   "outputs": [],
   "source": [
    "df1=df.append(dfc)"
   ]
  },
  {
   "cell_type": "code",
   "execution_count": 8,
   "id": "333e68c2",
   "metadata": {},
   "outputs": [],
   "source": [
    "df1 = df1.drop_duplicates(subset=['ID'], keep='last')"
   ]
  },
  {
   "cell_type": "code",
   "execution_count": 9,
   "id": "06b3dab2",
   "metadata": {},
   "outputs": [
    {
     "data": {
      "text/html": [
       "<div>\n",
       "<style scoped>\n",
       "    .dataframe tbody tr th:only-of-type {\n",
       "        vertical-align: middle;\n",
       "    }\n",
       "\n",
       "    .dataframe tbody tr th {\n",
       "        vertical-align: top;\n",
       "    }\n",
       "\n",
       "    .dataframe thead th {\n",
       "        text-align: right;\n",
       "    }\n",
       "</style>\n",
       "<table border=\"1\" class=\"dataframe\">\n",
       "  <thead>\n",
       "    <tr style=\"text-align: right;\">\n",
       "      <th></th>\n",
       "      <th>ID</th>\n",
       "      <th>Company Name</th>\n",
       "      <th>Frequency</th>\n",
       "      <th>Recency</th>\n",
       "      <th>Monetary</th>\n",
       "      <th>Overall Score</th>\n",
       "    </tr>\n",
       "  </thead>\n",
       "  <tbody>\n",
       "    <tr>\n",
       "      <th>0</th>\n",
       "      <td>10000</td>\n",
       "      <td>DNP International</td>\n",
       "      <td>1</td>\n",
       "      <td>1</td>\n",
       "      <td>1</td>\n",
       "      <td>Lost</td>\n",
       "    </tr>\n",
       "    <tr>\n",
       "      <th>1</th>\n",
       "      <td>10001</td>\n",
       "      <td>Stuart Products Inc</td>\n",
       "      <td>1</td>\n",
       "      <td>1</td>\n",
       "      <td>1</td>\n",
       "      <td>Lost</td>\n",
       "    </tr>\n",
       "    <tr>\n",
       "      <th>2</th>\n",
       "      <td>10002</td>\n",
       "      <td>Cosmo Pharm Inc</td>\n",
       "      <td>3</td>\n",
       "      <td>5</td>\n",
       "      <td>4</td>\n",
       "      <td>Loyal Customer</td>\n",
       "    </tr>\n",
       "    <tr>\n",
       "      <th>3</th>\n",
       "      <td>10003</td>\n",
       "      <td>Universal Nutrition</td>\n",
       "      <td>1</td>\n",
       "      <td>1</td>\n",
       "      <td>1</td>\n",
       "      <td>Lost</td>\n",
       "    </tr>\n",
       "    <tr>\n",
       "      <th>4</th>\n",
       "      <td>10008</td>\n",
       "      <td>Great American Natural Product</td>\n",
       "      <td>1</td>\n",
       "      <td>1</td>\n",
       "      <td>1</td>\n",
       "      <td>Lost</td>\n",
       "    </tr>\n",
       "    <tr>\n",
       "      <th>...</th>\n",
       "      <td>...</td>\n",
       "      <td>...</td>\n",
       "      <td>...</td>\n",
       "      <td>...</td>\n",
       "      <td>...</td>\n",
       "      <td>...</td>\n",
       "    </tr>\n",
       "    <tr>\n",
       "      <th>598</th>\n",
       "      <td>11795</td>\n",
       "      <td>General Research Labs Inc</td>\n",
       "      <td>3</td>\n",
       "      <td>5</td>\n",
       "      <td>4</td>\n",
       "      <td>Loyal Customer</td>\n",
       "    </tr>\n",
       "    <tr>\n",
       "      <th>599</th>\n",
       "      <td>12970</td>\n",
       "      <td>AMF Pharma LLC</td>\n",
       "      <td>3</td>\n",
       "      <td>5</td>\n",
       "      <td>4</td>\n",
       "      <td>Loyal Customer</td>\n",
       "    </tr>\n",
       "    <tr>\n",
       "      <th>600</th>\n",
       "      <td>13330</td>\n",
       "      <td>Aviva Naturals Corp</td>\n",
       "      <td>4</td>\n",
       "      <td>5</td>\n",
       "      <td>4</td>\n",
       "      <td>Loyal Customer</td>\n",
       "    </tr>\n",
       "    <tr>\n",
       "      <th>601</th>\n",
       "      <td>14683</td>\n",
       "      <td>Impact Nutrition, LLC</td>\n",
       "      <td>3</td>\n",
       "      <td>5</td>\n",
       "      <td>3</td>\n",
       "      <td>Potential Loyalist</td>\n",
       "    </tr>\n",
       "    <tr>\n",
       "      <th>602</th>\n",
       "      <td>15513</td>\n",
       "      <td>Health Natura</td>\n",
       "      <td>3</td>\n",
       "      <td>5</td>\n",
       "      <td>3</td>\n",
       "      <td>Potential Loyalist</td>\n",
       "    </tr>\n",
       "  </tbody>\n",
       "</table>\n",
       "<p>3282 rows × 6 columns</p>\n",
       "</div>"
      ],
      "text/plain": [
       "        ID                    Company Name  Frequency  Recency  Monetary  \\\n",
       "0    10000               DNP International          1        1         1   \n",
       "1    10001             Stuart Products Inc          1        1         1   \n",
       "2    10002                 Cosmo Pharm Inc          3        5         4   \n",
       "3    10003             Universal Nutrition          1        1         1   \n",
       "4    10008  Great American Natural Product          1        1         1   \n",
       "..     ...                             ...        ...      ...       ...   \n",
       "598  11795       General Research Labs Inc          3        5         4   \n",
       "599  12970                  AMF Pharma LLC          3        5         4   \n",
       "600  13330             Aviva Naturals Corp          4        5         4   \n",
       "601  14683           Impact Nutrition, LLC          3        5         3   \n",
       "602  15513                   Health Natura          3        5         3   \n",
       "\n",
       "          Overall Score  \n",
       "0                  Lost  \n",
       "1                  Lost  \n",
       "2        Loyal Customer  \n",
       "3                  Lost  \n",
       "4                  Lost  \n",
       "..                  ...  \n",
       "598      Loyal Customer  \n",
       "599      Loyal Customer  \n",
       "600      Loyal Customer  \n",
       "601  Potential Loyalist  \n",
       "602  Potential Loyalist  \n",
       "\n",
       "[3282 rows x 6 columns]"
      ]
     },
     "execution_count": 9,
     "metadata": {},
     "output_type": "execute_result"
    }
   ],
   "source": [
    "df1"
   ]
  },
  {
   "cell_type": "code",
   "execution_count": 10,
   "id": "c417c6de",
   "metadata": {},
   "outputs": [],
   "source": [
    "df1.to_csv(\"Customer Score Feb.csv\",index=False)"
   ]
  },
  {
   "cell_type": "code",
   "execution_count": null,
   "id": "5aff352a",
   "metadata": {},
   "outputs": [],
   "source": []
  }
 ],
 "metadata": {
  "kernelspec": {
   "display_name": "Python 3",
   "language": "python",
   "name": "python3"
  },
  "language_info": {
   "codemirror_mode": {
    "name": "ipython",
    "version": 3
   },
   "file_extension": ".py",
   "mimetype": "text/x-python",
   "name": "python",
   "nbconvert_exporter": "python",
   "pygments_lexer": "ipython3",
   "version": "3.8.5"
  }
 },
 "nbformat": 4,
 "nbformat_minor": 5
}
