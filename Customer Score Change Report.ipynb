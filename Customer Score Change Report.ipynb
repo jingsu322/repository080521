{
 "cells": [
  {
   "cell_type": "code",
   "execution_count": 1,
   "id": "d62c9284",
   "metadata": {},
   "outputs": [],
   "source": [
    "# download the drop and increase files"
   ]
  },
  {
   "cell_type": "code",
   "execution_count": 2,
   "id": "f0451d50",
   "metadata": {},
   "outputs": [],
   "source": [
    "import numpy as np\n",
    "import pandas as pd"
   ]
  },
  {
   "cell_type": "code",
   "execution_count": 3,
   "id": "89e5da1b",
   "metadata": {},
   "outputs": [],
   "source": [
    "ddf = pd.read_csv('dr.csv')\n",
    "idf = pd.read_csv('in.csv')"
   ]
  },
  {
   "cell_type": "code",
   "execution_count": 4,
   "id": "09d4ca2d",
   "metadata": {},
   "outputs": [],
   "source": [
    "ddf = ddf.dropna(subset=['ID','Yesterdays Recency','Day Before Yesterdays Recency','Yesterdays Frequency',\n",
    "                        'Yesterdays Monetary','Day Before Yesterdays Frequency','Day Before Yesterdays Monetary'])\n",
    "ddf['ID'] = ddf['ID'].astype(int)\n",
    "ddf['Yesterdays Recency'] = ddf['Yesterdays Recency'].astype(int)\n",
    "ddf['Day Before Yesterdays Recency'] = ddf['Day Before Yesterdays Recency'].astype(int)\n",
    "ddf['Yesterdays Frequency'] = ddf['Yesterdays Frequency'].astype(int)\n",
    "ddf['Yesterdays Monetary'] = ddf['Yesterdays Monetary'].astype(int)\n",
    "ddf['Day Before Yesterdays Frequency'] = ddf['Day Before Yesterdays Frequency'].astype(int)\n",
    "ddf['Day Before Yesterdays Monetary'] = ddf['Day Before Yesterdays Monetary'].astype(int)"
   ]
  },
  {
   "cell_type": "code",
   "execution_count": 5,
   "id": "aa8d20b0",
   "metadata": {},
   "outputs": [],
   "source": [
    "idf = idf.dropna(subset=['ID','Yesterdays Recency','Day Before Yesterdays Recency','Yesterdays Frequency',\n",
    "                        'Yesterdays Monetary','Day Before Yesterdays Frequency','Day Before Yesterdays Monetary'])\n",
    "idf['ID'] = idf['ID'].astype(int)\n",
    "idf['Yesterdays Recency'] = idf['Yesterdays Recency'].astype(int)\n",
    "idf['Day Before Yesterdays Recency'] = idf['Day Before Yesterdays Recency'].astype(int)\n",
    "idf['Yesterdays Frequency'] = idf['Yesterdays Frequency'].astype(int)\n",
    "idf['Yesterdays Monetary'] = idf['Yesterdays Monetary'].astype(int)\n",
    "idf['Day Before Yesterdays Frequency'] = idf['Day Before Yesterdays Frequency'].astype(int)\n",
    "idf['Day Before Yesterdays Monetary'] = idf['Day Before Yesterdays Monetary'].astype(int)"
   ]
  },
  {
   "cell_type": "code",
   "execution_count": 6,
   "id": "aa6f0e97",
   "metadata": {},
   "outputs": [
    {
     "name": "stdout",
     "output_type": "stream",
     "text": [
      "<class 'pandas.core.frame.DataFrame'>\n",
      "Int64Index: 22 entries, 0 to 21\n",
      "Data columns (total 12 columns):\n",
      " #   Column                               Non-Null Count  Dtype \n",
      "---  ------                               --------------  ----- \n",
      " 0   ID                                   22 non-null     int64 \n",
      " 1   Name                                 22 non-null     object\n",
      " 2   Sales Rep                            22 non-null     object\n",
      " 3   Yesterdays Recency                   22 non-null     int64 \n",
      " 4   Day Before Yesterdays Recency        22 non-null     int64 \n",
      " 5   Yesterdays Frequency                 22 non-null     int64 \n",
      " 6   Day Before Yesterdays Frequency      22 non-null     int64 \n",
      " 7   Yesterdays Monetary                  22 non-null     int64 \n",
      " 8   Day Before Yesterdays Monetary       22 non-null     int64 \n",
      " 9   Yesterdays Overall Score             22 non-null     object\n",
      " 10  Day Before Yesterdays Overall Score  22 non-null     object\n",
      " 11  Date of Last Sales (non-sample)      22 non-null     object\n",
      "dtypes: int64(7), object(5)\n",
      "memory usage: 2.2+ KB\n"
     ]
    }
   ],
   "source": [
    "ddf.info()"
   ]
  },
  {
   "cell_type": "code",
   "execution_count": 7,
   "id": "63b9c6a0",
   "metadata": {},
   "outputs": [
    {
     "name": "stdout",
     "output_type": "stream",
     "text": [
      "<class 'pandas.core.frame.DataFrame'>\n",
      "Int64Index: 13 entries, 0 to 12\n",
      "Data columns (total 12 columns):\n",
      " #   Column                               Non-Null Count  Dtype \n",
      "---  ------                               --------------  ----- \n",
      " 0   ID                                   13 non-null     int64 \n",
      " 1   Name                                 13 non-null     object\n",
      " 2   Sales Rep                            13 non-null     object\n",
      " 3   Yesterdays Recency                   13 non-null     int64 \n",
      " 4   Day Before Yesterdays Recency        13 non-null     int64 \n",
      " 5   Yesterdays Frequency                 13 non-null     int64 \n",
      " 6   Day Before Yesterdays Frequency      13 non-null     int64 \n",
      " 7   Yesterdays Monetary                  13 non-null     int64 \n",
      " 8   Day Before Yesterdays Monetary       13 non-null     int64 \n",
      " 9   Yesterdays Overall Score             13 non-null     object\n",
      " 10  Day Before Yesterdays Overall Score  13 non-null     object\n",
      " 11  Date of Last Sales (non-sample)      12 non-null     object\n",
      "dtypes: int64(7), object(5)\n",
      "memory usage: 1.3+ KB\n"
     ]
    }
   ],
   "source": [
    "idf.info()"
   ]
  },
  {
   "cell_type": "code",
   "execution_count": 8,
   "id": "a8946a54",
   "metadata": {},
   "outputs": [
    {
     "data": {
      "text/plain": [
       "Index(['ID', 'Name', 'Sales Rep', 'Yesterdays Recency',\n",
       "       'Day Before Yesterdays Recency', 'Yesterdays Frequency',\n",
       "       'Day Before Yesterdays Frequency', 'Yesterdays Monetary',\n",
       "       'Day Before Yesterdays Monetary', 'Yesterdays Overall Score',\n",
       "       'Day Before Yesterdays Overall Score',\n",
       "       'Date of Last Sales (non-sample)'],\n",
       "      dtype='object')"
      ]
     },
     "execution_count": 8,
     "metadata": {},
     "output_type": "execute_result"
    }
   ],
   "source": [
    "ddf.columns"
   ]
  },
  {
   "cell_type": "code",
   "execution_count": 9,
   "id": "1a5f1602",
   "metadata": {},
   "outputs": [
    {
     "data": {
      "text/plain": [
       "Index(['ID', 'Name', 'Sales Rep', 'Yesterdays Recency',\n",
       "       'Day Before Yesterdays Recency', 'Yesterdays Frequency',\n",
       "       'Day Before Yesterdays Frequency', 'Yesterdays Monetary',\n",
       "       'Day Before Yesterdays Monetary', 'Yesterdays Overall Score',\n",
       "       'Day Before Yesterdays Overall Score',\n",
       "       'Date of Last Sales (non-sample)'],\n",
       "      dtype='object')"
      ]
     },
     "execution_count": 9,
     "metadata": {},
     "output_type": "execute_result"
    }
   ],
   "source": [
    "idf.columns"
   ]
  },
  {
   "cell_type": "code",
   "execution_count": 10,
   "id": "9f1893ff",
   "metadata": {},
   "outputs": [],
   "source": [
    "# Current (Recency, Frequency, Monetary)\n",
    "# Previous (Recency, Frequency, Monetary)"
   ]
  },
  {
   "cell_type": "code",
   "execution_count": 11,
   "id": "61ccfd3a",
   "metadata": {},
   "outputs": [],
   "source": [
    "# drop\n",
    "a = ['(']*len(ddf)\n",
    "ddf.insert(0,'a',a)\n",
    "b = [')']*len(ddf)\n",
    "ddf.insert(1,'b',b)\n",
    "e = [',']*len(ddf)\n",
    "ddf.insert(2,'e',e)"
   ]
  },
  {
   "cell_type": "code",
   "execution_count": 12,
   "id": "e78c5227",
   "metadata": {},
   "outputs": [],
   "source": [
    "# increase\n",
    "c = ['(']*len(idf)\n",
    "idf.insert(0,'c',c)\n",
    "d = [')']*len(idf)\n",
    "idf.insert(1,'d',d)\n",
    "f = [',']*len(idf)\n",
    "idf.insert(2,'f',f)"
   ]
  },
  {
   "cell_type": "code",
   "execution_count": 13,
   "id": "018aa9af",
   "metadata": {},
   "outputs": [],
   "source": [
    "# concat\n",
    "ddf[\"Current (Recency, Frequency, Monetary)\"] = ddf['a']+ddf[\"Yesterdays Recency\"].map(str) + ddf['e'] +ddf[\"Yesterdays Frequency\"].map(str) + ddf['e'] +ddf[\"Yesterdays Monetary\"].map(str) + ddf['b']"
   ]
  },
  {
   "cell_type": "code",
   "execution_count": 14,
   "id": "843eff49",
   "metadata": {},
   "outputs": [],
   "source": [
    "ddf[\"Previous (Recency, Frequency, Monetary)\"] = ddf['a']+ddf[\"Day Before Yesterdays Recency\"].map(str) + ddf['e'] +ddf[\"Day Before Yesterdays Frequency\"].map(str) + ddf['e'] +ddf[\"Day Before Yesterdays Monetary\"].map(str) + ddf['b']"
   ]
  },
  {
   "cell_type": "code",
   "execution_count": 15,
   "id": "f2d69446",
   "metadata": {},
   "outputs": [],
   "source": [
    "ddf = ddf[['ID', 'Name', 'Sales Rep',\n",
    "           \"Current (Recency, Frequency, Monetary)\",\n",
    "           \"Previous (Recency, Frequency, Monetary)\",'Yesterdays Overall Score',\n",
    "           'Day Before Yesterdays Overall Score','Date of Last Sales (non-sample)']]"
   ]
  },
  {
   "cell_type": "code",
   "execution_count": 16,
   "id": "22397065",
   "metadata": {},
   "outputs": [],
   "source": [
    "rep = ['Ana Aquino', 'Cristina Perez', 'Jessica Aguilar', 'Jill Allen', 'Mariam Raza', 'Olga Ruiz', \n",
    "       'Selineh Rodriguez', 'Tina Jun', 'Vicente Montenegro','Pablo Tellez']"
   ]
  },
  {
   "cell_type": "code",
   "execution_count": 17,
   "id": "04d46de1",
   "metadata": {},
   "outputs": [],
   "source": [
    "ddf = ddf[ddf['Sales Rep'].isin(rep)].sort_values(by=['Sales Rep'],ascending=True)"
   ]
  },
  {
   "cell_type": "code",
   "execution_count": 18,
   "id": "a0d74adf",
   "metadata": {},
   "outputs": [],
   "source": [
    "# ddf.sort_values(by=['Sales Rep'],ascending=True)"
   ]
  },
  {
   "cell_type": "code",
   "execution_count": 19,
   "id": "642c9e2e",
   "metadata": {},
   "outputs": [],
   "source": [
    "idf[\"Current (Recency, Frequency, Monetary)\"] = idf['c']+idf[\"Yesterdays Recency\"].map(str) + idf['f'] +idf[\"Yesterdays Frequency\"].map(str) + idf['f'] +idf[\"Yesterdays Monetary\"].map(str) + idf['d']"
   ]
  },
  {
   "cell_type": "code",
   "execution_count": 20,
   "id": "1a54ad6a",
   "metadata": {},
   "outputs": [],
   "source": [
    "idf[\"Previous (Recency, Frequency, Monetary)\"] = idf['c']+idf[\"Day Before Yesterdays Recency\"].map(str) + idf['f'] +idf[\"Day Before Yesterdays Frequency\"].map(str) + idf['f'] +idf[\"Day Before Yesterdays Monetary\"].map(str) + idf['d']"
   ]
  },
  {
   "cell_type": "code",
   "execution_count": 21,
   "id": "b2b70c57",
   "metadata": {},
   "outputs": [],
   "source": [
    "idf = idf[['ID', 'Name', 'Sales Rep',\n",
    "           \"Current (Recency, Frequency, Monetary)\",\n",
    "           \"Previous (Recency, Frequency, Monetary)\",'Yesterdays Overall Score',\n",
    "           'Day Before Yesterdays Overall Score','Date of Last Sales (non-sample)']]"
   ]
  },
  {
   "cell_type": "code",
   "execution_count": 22,
   "id": "29540479",
   "metadata": {},
   "outputs": [],
   "source": [
    "idf = idf[idf['Sales Rep'].isin(rep)].sort_values(by=['Sales Rep'],ascending=True)"
   ]
  },
  {
   "cell_type": "code",
   "execution_count": 23,
   "id": "375e01e8",
   "metadata": {},
   "outputs": [],
   "source": [
    "# to excel\n",
    "with pd.ExcelWriter('Customer Score Change Report.xlsx') as writer:  \n",
    "    ddf.to_excel(writer, sheet_name='Drop',index=False)\n",
    "    idf.to_excel(writer, sheet_name='Increase',index=False)"
   ]
  },
  {
   "cell_type": "code",
   "execution_count": 24,
   "id": "c9089c77",
   "metadata": {
    "scrolled": true
   },
   "outputs": [
    {
     "data": {
      "text/plain": [
       "18"
      ]
     },
     "execution_count": 24,
     "metadata": {},
     "output_type": "execute_result"
    }
   ],
   "source": [
    "x = len(ddf)\n",
    "x"
   ]
  },
  {
   "cell_type": "code",
   "execution_count": 25,
   "id": "84f0646a",
   "metadata": {},
   "outputs": [
    {
     "data": {
      "text/plain": [
       "12"
      ]
     },
     "execution_count": 25,
     "metadata": {},
     "output_type": "execute_result"
    }
   ],
   "source": [
    "y = len(idf)\n",
    "y"
   ]
  },
  {
   "cell_type": "code",
   "execution_count": 26,
   "id": "98156374",
   "metadata": {},
   "outputs": [
    {
     "name": "stdout",
     "output_type": "stream",
     "text": [
      "\n",
      "Customer Score Changing Report\n",
      "\n",
      "Hello Cristina and Ericka,\n",
      "\n",
      "The Customer Score Changing Report has been attached. For the report today:\n",
      "\n",
      "    1. 49 customers score dropped\n",
      "    2. 16 customers score increased\n",
      " \n",
      "\n",
      "Thank you,\n",
      "\n",
      "Jing\n",
      "\n"
     ]
    }
   ],
   "source": [
    "print('''\n",
    "Customer Score Changing Report\n",
    "\n",
    "Hello Cristina and Ericka,\n",
    "\n",
    "The Customer Score Changing Report has been attached. For the report today:\n",
    "\n",
    "    1. 18 customers score dropped\n",
    "    2. 16 customers score increased\n",
    " \n",
    "\n",
    "Thank you,\n",
    "\n",
    "Jing\n",
    "''')"
   ]
  },
  {
   "cell_type": "code",
   "execution_count": null,
   "id": "7162567b",
   "metadata": {},
   "outputs": [],
   "source": []
  }
 ],
 "metadata": {
  "kernelspec": {
   "display_name": "Python 3",
   "language": "python",
   "name": "python3"
  },
  "language_info": {
   "codemirror_mode": {
    "name": "ipython",
    "version": 3
   },
   "file_extension": ".py",
   "mimetype": "text/x-python",
   "name": "python",
   "nbconvert_exporter": "python",
   "pygments_lexer": "ipython3",
   "version": "3.8.5"
  }
 },
 "nbformat": 4,
 "nbformat_minor": 5
}
