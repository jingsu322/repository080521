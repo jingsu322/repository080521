{
 "cells": [
  {
   "cell_type": "code",
   "execution_count": 1,
   "metadata": {},
   "outputs": [],
   "source": [
    "import numpy as np\n",
    "import pandas as pd"
   ]
  },
  {
   "cell_type": "code",
   "execution_count": 2,
   "metadata": {},
   "outputs": [],
   "source": [
    "# import reference table and daily file\n",
    "ns = pd.read_csv('Thomasnet Customer Match Dataset.csv')\n",
    "reference = pd.read_excel('Thomasnet Audience Reference.xlsx')\n",
    "daily = pd.read_csv('82.csv')"
   ]
  },
  {
   "cell_type": "code",
   "execution_count": 3,
   "metadata": {},
   "outputs": [
    {
     "name": "stdout",
     "output_type": "stream",
     "text": [
      "<class 'pandas.core.frame.DataFrame'>\n",
      "RangeIndex: 26675 entries, 0 to 26674\n",
      "Data columns (total 6 columns):\n",
      " #   Column            Non-Null Count  Dtype \n",
      "---  ------            --------------  ----- \n",
      " 0   Entity ID         26675 non-null  int64 \n",
      " 1   Customer          26675 non-null  object\n",
      " 2   Sales Rep         25404 non-null  object\n",
      " 3   Seller Sales Rep  10443 non-null  object\n",
      " 4   Customer ID       26675 non-null  object\n",
      " 5   Date Created      26675 non-null  object\n",
      "dtypes: int64(1), object(5)\n",
      "memory usage: 1.2+ MB\n"
     ]
    }
   ],
   "source": [
    "ns.info()"
   ]
  },
  {
   "cell_type": "code",
   "execution_count": 4,
   "metadata": {},
   "outputs": [
    {
     "data": {
      "text/plain": [
       "Index(['Visitor', 'Potential', 'New', 'Account ID', 'Sales Rep',\n",
       "       'Seller Sales Rep'],\n",
       "      dtype='object')"
      ]
     },
     "execution_count": 4,
     "metadata": {},
     "output_type": "execute_result"
    }
   ],
   "source": [
    "reference.columns"
   ]
  },
  {
   "cell_type": "code",
   "execution_count": 5,
   "metadata": {},
   "outputs": [],
   "source": [
    "df1 = pd.merge(reference,ns,how='left',left_on='Account ID', right_on='Entity ID')"
   ]
  },
  {
   "cell_type": "code",
   "execution_count": 6,
   "metadata": {},
   "outputs": [
    {
     "data": {
      "text/html": [
       "<div>\n",
       "<style scoped>\n",
       "    .dataframe tbody tr th:only-of-type {\n",
       "        vertical-align: middle;\n",
       "    }\n",
       "\n",
       "    .dataframe tbody tr th {\n",
       "        vertical-align: top;\n",
       "    }\n",
       "\n",
       "    .dataframe thead th {\n",
       "        text-align: right;\n",
       "    }\n",
       "</style>\n",
       "<table border=\"1\" class=\"dataframe\">\n",
       "  <thead>\n",
       "    <tr style=\"text-align: right;\">\n",
       "      <th></th>\n",
       "      <th>Visitor</th>\n",
       "      <th>Potential</th>\n",
       "      <th>New</th>\n",
       "      <th>Account ID</th>\n",
       "      <th>Sales Rep_x</th>\n",
       "      <th>Seller Sales Rep_x</th>\n",
       "      <th>Entity ID</th>\n",
       "      <th>Customer</th>\n",
       "      <th>Sales Rep_y</th>\n",
       "      <th>Seller Sales Rep_y</th>\n",
       "      <th>Customer ID</th>\n",
       "      <th>Date Created</th>\n",
       "    </tr>\n",
       "  </thead>\n",
       "  <tbody>\n",
       "    <tr>\n",
       "      <th>0</th>\n",
       "      <td>Esmond Natural USA Inc</td>\n",
       "      <td>No potential</td>\n",
       "      <td>NaN</td>\n",
       "      <td>NaN</td>\n",
       "      <td>NaN</td>\n",
       "      <td>NaN</td>\n",
       "      <td>NaN</td>\n",
       "      <td>NaN</td>\n",
       "      <td>NaN</td>\n",
       "      <td>NaN</td>\n",
       "      <td>NaN</td>\n",
       "      <td>NaN</td>\n",
       "    </tr>\n",
       "    <tr>\n",
       "      <th>1</th>\n",
       "      <td>Eagle Labs</td>\n",
       "      <td>No potential</td>\n",
       "      <td>NaN</td>\n",
       "      <td>NaN</td>\n",
       "      <td>NaN</td>\n",
       "      <td>NaN</td>\n",
       "      <td>NaN</td>\n",
       "      <td>NaN</td>\n",
       "      <td>NaN</td>\n",
       "      <td>NaN</td>\n",
       "      <td>NaN</td>\n",
       "      <td>NaN</td>\n",
       "    </tr>\n",
       "    <tr>\n",
       "      <th>2</th>\n",
       "      <td>Synergy Labs</td>\n",
       "      <td>No potential</td>\n",
       "      <td>NaN</td>\n",
       "      <td>NaN</td>\n",
       "      <td>NaN</td>\n",
       "      <td>NaN</td>\n",
       "      <td>NaN</td>\n",
       "      <td>NaN</td>\n",
       "      <td>NaN</td>\n",
       "      <td>NaN</td>\n",
       "      <td>NaN</td>\n",
       "      <td>NaN</td>\n",
       "    </tr>\n",
       "    <tr>\n",
       "      <th>3</th>\n",
       "      <td>Big Storm Brewery</td>\n",
       "      <td>No Potential</td>\n",
       "      <td>NaN</td>\n",
       "      <td>NaN</td>\n",
       "      <td>NaN</td>\n",
       "      <td>NaN</td>\n",
       "      <td>NaN</td>\n",
       "      <td>NaN</td>\n",
       "      <td>NaN</td>\n",
       "      <td>NaN</td>\n",
       "      <td>NaN</td>\n",
       "      <td>NaN</td>\n",
       "    </tr>\n",
       "    <tr>\n",
       "      <th>4</th>\n",
       "      <td>Viscofan SA</td>\n",
       "      <td>Seller</td>\n",
       "      <td>NaN</td>\n",
       "      <td>37870</td>\n",
       "      <td>NaN</td>\n",
       "      <td>Katherine Salazar</td>\n",
       "      <td>37870.0</td>\n",
       "      <td>Naturin Viscofan GmbH</td>\n",
       "      <td>Unassigned Currently</td>\n",
       "      <td>Katherine Salazar</td>\n",
       "      <td>37870 Naturin Viscofan GmbH</td>\n",
       "      <td>4/25/2019 11:18 am</td>\n",
       "    </tr>\n",
       "    <tr>\n",
       "      <th>5</th>\n",
       "      <td>Nutrition Formulators Inc</td>\n",
       "      <td>Buyer</td>\n",
       "      <td>NaN</td>\n",
       "      <td>10124</td>\n",
       "      <td>Ana Aquino</td>\n",
       "      <td>NaN</td>\n",
       "      <td>10124.0</td>\n",
       "      <td>Nutrition Formulators</td>\n",
       "      <td>Ana Aquino</td>\n",
       "      <td>NaN</td>\n",
       "      <td>10124 Nutrition Formulators</td>\n",
       "      <td>6/18/2018 10:46 am</td>\n",
       "    </tr>\n",
       "    <tr>\n",
       "      <th>6</th>\n",
       "      <td>Myosci Technologies Inc</td>\n",
       "      <td>Both</td>\n",
       "      <td>Yes</td>\n",
       "      <td>44845</td>\n",
       "      <td>Elizabeth Suro</td>\n",
       "      <td>Katherine Salazar</td>\n",
       "      <td>44845.0</td>\n",
       "      <td>Myosci Technologies, Inc./True Nutrition</td>\n",
       "      <td>Elizabeth Suro</td>\n",
       "      <td>Katherine Salazar</td>\n",
       "      <td>44845 Myosci Technologies, Inc./True Nutrition</td>\n",
       "      <td>10/29/2020 12:27 pm</td>\n",
       "    </tr>\n",
       "    <tr>\n",
       "      <th>7</th>\n",
       "      <td>Texas Tech University</td>\n",
       "      <td>No Potential</td>\n",
       "      <td>NaN</td>\n",
       "      <td>NaN</td>\n",
       "      <td>NaN</td>\n",
       "      <td>NaN</td>\n",
       "      <td>NaN</td>\n",
       "      <td>NaN</td>\n",
       "      <td>NaN</td>\n",
       "      <td>NaN</td>\n",
       "      <td>NaN</td>\n",
       "      <td>NaN</td>\n",
       "    </tr>\n",
       "    <tr>\n",
       "      <th>8</th>\n",
       "      <td>Natural Organics Laboratories Inc</td>\n",
       "      <td>Buyer</td>\n",
       "      <td>NaN</td>\n",
       "      <td>11835</td>\n",
       "      <td>Tina Jun</td>\n",
       "      <td>NaN</td>\n",
       "      <td>11835.0</td>\n",
       "      <td>Natural Organics,</td>\n",
       "      <td>Tina Jun</td>\n",
       "      <td>NaN</td>\n",
       "      <td>11835 Natural Organics,</td>\n",
       "      <td>6/18/2018 10:45 am</td>\n",
       "    </tr>\n",
       "    <tr>\n",
       "      <th>9</th>\n",
       "      <td>Uniglo Manufacturing LLC</td>\n",
       "      <td>Buyer</td>\n",
       "      <td>NaN</td>\n",
       "      <td>40672</td>\n",
       "      <td>Ana Aquino</td>\n",
       "      <td>NaN</td>\n",
       "      <td>40672.0</td>\n",
       "      <td>UniGlo Manufacturing</td>\n",
       "      <td>Ana Aquino</td>\n",
       "      <td>NaN</td>\n",
       "      <td>40672 UniGlo Manufacturing</td>\n",
       "      <td>3/19/2020 2:11 pm</td>\n",
       "    </tr>\n",
       "  </tbody>\n",
       "</table>\n",
       "</div>"
      ],
      "text/plain": [
       "                             Visitor     Potential  New Account ID  \\\n",
       "0             Esmond Natural USA Inc  No potential  NaN        NaN   \n",
       "1                         Eagle Labs  No potential  NaN        NaN   \n",
       "2                       Synergy Labs  No potential  NaN        NaN   \n",
       "3                  Big Storm Brewery  No Potential  NaN        NaN   \n",
       "4                        Viscofan SA        Seller  NaN      37870   \n",
       "5          Nutrition Formulators Inc         Buyer  NaN      10124   \n",
       "6            Myosci Technologies Inc          Both  Yes      44845   \n",
       "7              Texas Tech University  No Potential  NaN        NaN   \n",
       "8  Natural Organics Laboratories Inc         Buyer  NaN      11835   \n",
       "9           Uniglo Manufacturing LLC         Buyer  NaN      40672   \n",
       "\n",
       "      Sales Rep_x Seller Sales Rep_x  Entity ID  \\\n",
       "0             NaN                NaN        NaN   \n",
       "1             NaN                NaN        NaN   \n",
       "2             NaN                NaN        NaN   \n",
       "3             NaN                NaN        NaN   \n",
       "4             NaN  Katherine Salazar    37870.0   \n",
       "5      Ana Aquino                NaN    10124.0   \n",
       "6  Elizabeth Suro  Katherine Salazar    44845.0   \n",
       "7             NaN                NaN        NaN   \n",
       "8        Tina Jun                NaN    11835.0   \n",
       "9      Ana Aquino                NaN    40672.0   \n",
       "\n",
       "                                   Customer           Sales Rep_y  \\\n",
       "0                                       NaN                   NaN   \n",
       "1                                       NaN                   NaN   \n",
       "2                                       NaN                   NaN   \n",
       "3                                       NaN                   NaN   \n",
       "4                     Naturin Viscofan GmbH  Unassigned Currently   \n",
       "5                     Nutrition Formulators            Ana Aquino   \n",
       "6  Myosci Technologies, Inc./True Nutrition        Elizabeth Suro   \n",
       "7                                       NaN                   NaN   \n",
       "8                         Natural Organics,              Tina Jun   \n",
       "9                      UniGlo Manufacturing            Ana Aquino   \n",
       "\n",
       "  Seller Sales Rep_y                                     Customer ID  \\\n",
       "0                NaN                                             NaN   \n",
       "1                NaN                                             NaN   \n",
       "2                NaN                                             NaN   \n",
       "3                NaN                                             NaN   \n",
       "4  Katherine Salazar                     37870 Naturin Viscofan GmbH   \n",
       "5                NaN                     10124 Nutrition Formulators   \n",
       "6  Katherine Salazar  44845 Myosci Technologies, Inc./True Nutrition   \n",
       "7                NaN                                             NaN   \n",
       "8                NaN                         11835 Natural Organics,   \n",
       "9                NaN                      40672 UniGlo Manufacturing   \n",
       "\n",
       "          Date Created  \n",
       "0                  NaN  \n",
       "1                  NaN  \n",
       "2                  NaN  \n",
       "3                  NaN  \n",
       "4   4/25/2019 11:18 am  \n",
       "5   6/18/2018 10:46 am  \n",
       "6  10/29/2020 12:27 pm  \n",
       "7                  NaN  \n",
       "8   6/18/2018 10:45 am  \n",
       "9    3/19/2020 2:11 pm  "
      ]
     },
     "execution_count": 6,
     "metadata": {},
     "output_type": "execute_result"
    }
   ],
   "source": [
    "df1.head(10)"
   ]
  },
  {
   "cell_type": "code",
   "execution_count": 7,
   "metadata": {},
   "outputs": [],
   "source": [
    "df1 = df1[['Visitor', 'Potential', 'New', 'Account ID', 'Sales Rep_y','Seller Sales Rep_y']]"
   ]
  },
  {
   "cell_type": "code",
   "execution_count": 8,
   "metadata": {},
   "outputs": [],
   "source": [
    "df1.rename(columns={'Sales Rep_y':'Sales Rep','Seller Sales Rep_y':'Seller Sales Rep'},\n",
    "                 inplace = True)"
   ]
  },
  {
   "cell_type": "code",
   "execution_count": 9,
   "metadata": {},
   "outputs": [],
   "source": [
    "reference = df1"
   ]
  },
  {
   "cell_type": "code",
   "execution_count": 10,
   "metadata": {},
   "outputs": [
    {
     "data": {
      "text/plain": [
       "RangeIndex(start=0, stop=1042, step=1)"
      ]
     },
     "execution_count": 10,
     "metadata": {},
     "output_type": "execute_result"
    }
   ],
   "source": [
    "daily.index"
   ]
  },
  {
   "cell_type": "code",
   "execution_count": 11,
   "metadata": {},
   "outputs": [
    {
     "data": {
      "text/plain": [
       "Index(['Id', 'Time of Visit', 'Visitor', 'City', 'State/Province', 'Zip',\n",
       "       'Country', 'Industry', 'Employees', 'Annual Sales', 'Pages/Sessions',\n",
       "       'Session Duration', 'Search Term/Category', 'Thomasnet Registered User',\n",
       "       'Your Website Activity', 'Thomasnet Activity', 'Target Audience',\n",
       "       'Viewed High-Value Page', 'Thomasnet.com Submitted RFI',\n",
       "       'Asset Download', 'Thomas Navigator Keyword/Part Number Search',\n",
       "       'Thomas Navigator Advanced Searches/Attribute Column Sorts',\n",
       "       'Thomas Navigator Page Saved to Favorites',\n",
       "       'Thomas Navigator CAD Action', 'Thomas Navigator Compared Item',\n",
       "       'Thomas Navigator Page Emailed', 'Thomas Navigator Printed Page',\n",
       "       'Thomas Navigator Product Service View'],\n",
       "      dtype='object')"
      ]
     },
     "execution_count": 11,
     "metadata": {},
     "output_type": "execute_result"
    }
   ],
   "source": [
    "daily.columns"
   ]
  },
  {
   "cell_type": "code",
   "execution_count": 12,
   "metadata": {},
   "outputs": [],
   "source": [
    "daily = daily.drop_duplicates(subset = ['Visitor'],keep='first')"
   ]
  },
  {
   "cell_type": "code",
   "execution_count": 13,
   "metadata": {},
   "outputs": [],
   "source": [
    "daily = daily.drop_duplicates().reset_index(drop=True)"
   ]
  },
  {
   "cell_type": "code",
   "execution_count": 14,
   "metadata": {},
   "outputs": [],
   "source": [
    "# Clean daily file\n",
    "# a. remove unknown values / gwi / EW\n",
    "daily = daily[~daily.Visitor.str.contains(\"Unknown\")]\n",
    "daily = daily[~daily[\"Visitor\"].isin([\"Green Wave Ingredients\",\"East -West Associates Inc\"])]\n",
    "# b. remove duplicates\n",
    "daily.drop_duplicates(\"Visitor\",keep='first',inplace=True)"
   ]
  },
  {
   "cell_type": "code",
   "execution_count": 15,
   "metadata": {},
   "outputs": [
    {
     "data": {
      "text/plain": [
       "243"
      ]
     },
     "execution_count": 15,
     "metadata": {},
     "output_type": "execute_result"
    }
   ],
   "source": [
    "b = len(daily)\n",
    "b"
   ]
  },
  {
   "cell_type": "code",
   "execution_count": 16,
   "metadata": {},
   "outputs": [],
   "source": [
    "# Join two tables based on the daily file\n",
    "df = pd.merge(reference,daily,how='right')\n",
    "\n",
    "# adjust column name and order\n",
    "df['Visitor_2'] = df['Visitor']\n",
    "df = df[['Visitor_2', 'Potential', 'New', 'Account ID', 'Sales Rep',\n",
    "       'Seller Sales Rep', 'Id', 'Time of Visit', 'Visitor','City', 'State/Province',\n",
    "       'Zip', 'Country', 'Industry', 'Employees', 'Annual Sales',\n",
    "       'Pages/Sessions', 'Session Duration', 'Search Term/Category',\n",
    "       'Thomasnet Registered User', 'Your Website Activity',\n",
    "       'Thomasnet Activity', 'Target Audience', 'Viewed High-Value Page',\n",
    "       'Thomasnet.com Submitted RFI', 'Asset Download',\n",
    "       'Thomas Navigator Keyword/Part Number Search',\n",
    "       'Thomas Navigator Advanced Searches/Attribute Column Sorts',\n",
    "       'Thomas Navigator Page Saved to Favorites',\n",
    "       'Thomas Navigator CAD Action', 'Thomas Navigator Compared Item',\n",
    "       'Thomas Navigator Page Emailed', 'Thomas Navigator Printed Page',\n",
    "       'Thomas Navigator Product Service View' ]]\n",
    "\n",
    "# Replace nan with ''\n",
    "df = df.replace(np.nan, '', regex=True) \n"
   ]
  },
  {
   "cell_type": "code",
   "execution_count": 17,
   "metadata": {},
   "outputs": [],
   "source": [
    "df.drop_duplicates(\"Visitor\",keep='first',inplace=True)"
   ]
  },
  {
   "cell_type": "code",
   "execution_count": 18,
   "metadata": {},
   "outputs": [
    {
     "data": {
      "text/plain": [
       "243"
      ]
     },
     "execution_count": 18,
     "metadata": {},
     "output_type": "execute_result"
    }
   ],
   "source": [
    "a = len(df)\n",
    "a"
   ]
  },
  {
   "cell_type": "code",
   "execution_count": 19,
   "metadata": {},
   "outputs": [],
   "source": [
    "# c. Total daily visitors --> df_daily\n",
    "df.to_csv(\"daily_total.csv\",index=False)"
   ]
  },
  {
   "cell_type": "code",
   "execution_count": 20,
   "metadata": {},
   "outputs": [],
   "source": [
    "# 2 tables:\n",
    "# a. new visitors (not in reference table) --> df_new\n",
    "# b. Existing visitors (with account#) --> df_report\n",
    "# c. Total daily visitors --> df"
   ]
  },
  {
   "cell_type": "code",
   "execution_count": 21,
   "metadata": {},
   "outputs": [],
   "source": [
    "# New visitors, need to qualify:\n",
    "df_new = df[df['Potential'] == '']\n",
    "\n",
    "# df_new[['New Customer']]\n",
    "yes = ['Yes']*len(df_new)\n",
    "df_new.insert(0,'New Customer',yes)\n",
    "refer = ['']*len(df_new)\n",
    "df_new.insert(7,'Referrer',refer)\n",
    "web = ['']*len(df_new)\n",
    "df_new.insert(8,'Website',web)"
   ]
  },
  {
   "cell_type": "code",
   "execution_count": 22,
   "metadata": {},
   "outputs": [
    {
     "data": {
      "text/plain": [
       "46"
      ]
     },
     "execution_count": 22,
     "metadata": {},
     "output_type": "execute_result"
    }
   ],
   "source": [
    "# df_new.drop_duplicates(\"Visitor\",keep='first',inplace=True)\n",
    "x=len(df_new)\n",
    "x"
   ]
  },
  {
   "cell_type": "code",
   "execution_count": 23,
   "metadata": {},
   "outputs": [],
   "source": [
    "# output to csv\n",
    "df_new.to_csv(\"daily_new_visitors.csv\",index=False)"
   ]
  },
  {
   "cell_type": "code",
   "execution_count": 24,
   "metadata": {},
   "outputs": [],
   "source": [
    "# daily report visitors \n",
    "df_report = df[df['Account ID'] != '']\n",
    "df_report = df_report[['Potential', 'New', 'Account ID', 'Sales Rep','Seller Sales Rep',\n",
    "                       'Id', 'Time of Visit', 'Visitor','Country', 'Industry', 'Employees', \n",
    "                       'Annual Sales','Pages/Sessions', 'Session Duration', 'Search Term/Category']]"
   ]
  },
  {
   "cell_type": "code",
   "execution_count": 25,
   "metadata": {},
   "outputs": [
    {
     "data": {
      "text/plain": [
       "97"
      ]
     },
     "execution_count": 25,
     "metadata": {},
     "output_type": "execute_result"
    }
   ],
   "source": [
    "df_report.drop_duplicates(\"Visitor\",keep='first',inplace=True)\n",
    "df_report.sort_values(by=['Sales Rep'],ascending=True,inplace=True)\n",
    "# df_report\n",
    "c=len(df_report)\n",
    "c"
   ]
  },
  {
   "cell_type": "code",
   "execution_count": 26,
   "metadata": {},
   "outputs": [],
   "source": [
    "# output to csv\n",
    "df_report.to_csv(\"daily_report.csv\",index=False)"
   ]
  }
 ],
 "metadata": {
  "kernelspec": {
   "display_name": "Python 3",
   "language": "python",
   "name": "python3"
  },
  "language_info": {
   "codemirror_mode": {
    "name": "ipython",
    "version": 3
   },
   "file_extension": ".py",
   "mimetype": "text/x-python",
   "name": "python",
   "nbconvert_exporter": "python",
   "pygments_lexer": "ipython3",
   "version": "3.8.5"
  }
 },
 "nbformat": 4,
 "nbformat_minor": 4
}
