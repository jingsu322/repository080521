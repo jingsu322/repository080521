{
 "cells": [
  {
   "cell_type": "code",
   "execution_count": 1,
   "id": "42625fd5",
   "metadata": {},
   "outputs": [],
   "source": [
    "# Download the top10 master item dataset\n",
    "# join with master item info"
   ]
  },
  {
   "cell_type": "code",
   "execution_count": 2,
   "id": "7828d5ed",
   "metadata": {},
   "outputs": [],
   "source": [
    "import numpy as np\n",
    "import pandas as pd\n",
    "# import openpyxl\n",
    "# from openpyxl.styles import Font, Alignment, Border, Side, PatternFill"
   ]
  },
  {
   "cell_type": "code",
   "execution_count": 3,
   "id": "4718d0d1",
   "metadata": {},
   "outputs": [],
   "source": [
    "# import reference table and daily file\n",
    "df10 = pd.read_csv(\"Top 10 Master Item Sold (weekly).csv\",\n",
    "                   usecols=['Master Item', 'Amount','Amount (Net)','Quantity'])\n",
    "df_m = pd.read_csv('Master Item Info.csv',usecols=['ID', 'Name'])"
   ]
  },
  {
   "cell_type": "code",
   "execution_count": 4,
   "id": "b2094d9f",
   "metadata": {},
   "outputs": [],
   "source": [
    "df10 = df10.dropna(subset=['Master Item'])\n",
    "df10['Amount'] = df10['Amount'].str.replace(r'\\$|,', '', regex=True).astype(float)\n",
    "df10['Amount (Net)'] = df10['Amount (Net)'].str.replace(r'\\$|,', '', regex=True).astype(float)\n",
    "df10['Master Item'] = df10['Master Item'].astype(int)"
   ]
  },
  {
   "cell_type": "code",
   "execution_count": 5,
   "id": "9118d9e1",
   "metadata": {},
   "outputs": [
    {
     "data": {
      "text/html": [
       "<div>\n",
       "<style scoped>\n",
       "    .dataframe tbody tr th:only-of-type {\n",
       "        vertical-align: middle;\n",
       "    }\n",
       "\n",
       "    .dataframe tbody tr th {\n",
       "        vertical-align: top;\n",
       "    }\n",
       "\n",
       "    .dataframe thead th {\n",
       "        text-align: right;\n",
       "    }\n",
       "</style>\n",
       "<table border=\"1\" class=\"dataframe\">\n",
       "  <thead>\n",
       "    <tr style=\"text-align: right;\">\n",
       "      <th></th>\n",
       "      <th>Amount</th>\n",
       "    </tr>\n",
       "    <tr>\n",
       "      <th>Master Item</th>\n",
       "      <th></th>\n",
       "    </tr>\n",
       "  </thead>\n",
       "  <tbody>\n",
       "    <tr>\n",
       "      <th>13650</th>\n",
       "      <td>240387.5</td>\n",
       "    </tr>\n",
       "    <tr>\n",
       "      <th>70020</th>\n",
       "      <td>130860.0</td>\n",
       "    </tr>\n",
       "    <tr>\n",
       "      <th>63800</th>\n",
       "      <td>76487.0</td>\n",
       "    </tr>\n",
       "    <tr>\n",
       "      <th>34360</th>\n",
       "      <td>59925.0</td>\n",
       "    </tr>\n",
       "    <tr>\n",
       "      <th>13663</th>\n",
       "      <td>51087.5</td>\n",
       "    </tr>\n",
       "    <tr>\n",
       "      <th>13661</th>\n",
       "      <td>46990.0</td>\n",
       "    </tr>\n",
       "    <tr>\n",
       "      <th>69585</th>\n",
       "      <td>36310.0</td>\n",
       "    </tr>\n",
       "    <tr>\n",
       "      <th>11940</th>\n",
       "      <td>36035.0</td>\n",
       "    </tr>\n",
       "    <tr>\n",
       "      <th>70310</th>\n",
       "      <td>36012.5</td>\n",
       "    </tr>\n",
       "    <tr>\n",
       "      <th>42640</th>\n",
       "      <td>33680.0</td>\n",
       "    </tr>\n",
       "  </tbody>\n",
       "</table>\n",
       "</div>"
      ],
      "text/plain": [
       "               Amount\n",
       "Master Item          \n",
       "13650        240387.5\n",
       "70020        130860.0\n",
       "63800         76487.0\n",
       "34360         59925.0\n",
       "13663         51087.5\n",
       "13661         46990.0\n",
       "69585         36310.0\n",
       "11940         36035.0\n",
       "70310         36012.5\n",
       "42640         33680.0"
      ]
     },
     "execution_count": 5,
     "metadata": {},
     "output_type": "execute_result"
    }
   ],
   "source": [
    "# Group by\n",
    "df_g = df10.loc[:,['Master Item', 'Amount']]\n",
    "df_g = df_g.groupby('Master Item').sum().sort_values(by='Amount', ascending=False).head(10)\n",
    "df_g"
   ]
  },
  {
   "cell_type": "code",
   "execution_count": 6,
   "id": "c9aae876",
   "metadata": {},
   "outputs": [],
   "source": [
    "# publishers.groupby('Publisher').sum().sort_values(by='NA_Sales', ascending=False).head(10)\n",
    "df = pd.merge(df_g,df_m,right_on='ID',left_index=True,how='left')"
   ]
  },
  {
   "cell_type": "code",
   "execution_count": 7,
   "id": "aebd91af",
   "metadata": {},
   "outputs": [
    {
     "data": {
      "text/plain": [
       "Index(['Amount', 'ID', 'Name'], dtype='object')"
      ]
     },
     "execution_count": 7,
     "metadata": {},
     "output_type": "execute_result"
    }
   ],
   "source": [
    "df.columns"
   ]
  },
  {
   "cell_type": "code",
   "execution_count": 8,
   "id": "2c50baba",
   "metadata": {},
   "outputs": [],
   "source": [
    "df = df[['Name']]"
   ]
  },
  {
   "cell_type": "code",
   "execution_count": 9,
   "id": "70ee9267",
   "metadata": {},
   "outputs": [],
   "source": [
    "df.to_excel(\"Top 10 Master Item Report.xlsx\",float_format = '%.5f',index=False)"
   ]
  },
  {
   "cell_type": "code",
   "execution_count": 10,
   "id": "395985c7",
   "metadata": {},
   "outputs": [
    {
     "name": "stdout",
     "output_type": "stream",
     "text": [
      "\n",
      "Top 10 Master Item Sold (weekly)\n",
      "\n",
      "Hello Tiffany,\n",
      "\n",
      "The top 10 Master Item Sold during last week showing as below.\n",
      "\n",
      "\n",
      "\n",
      "Let me know if you have any questions.\n",
      "\n",
      "\n",
      "Thank you,\n",
      "Jing\n",
      "\n"
     ]
    }
   ],
   "source": [
    "print('''\n",
    "Top 10 Master Item Sold (weekly)\n",
    "\n",
    "Hello Tiffany,\n",
    "\n",
    "The top 10 Master Item Sold during last week showing as below.\n",
    "\n",
    "\n",
    "\n",
    "Let me know if you have any questions.\n",
    "\n",
    "\n",
    "Thank you,\n",
    "Jing\n",
    "''')"
   ]
  },
  {
   "cell_type": "code",
   "execution_count": null,
   "id": "fc22821f",
   "metadata": {},
   "outputs": [],
   "source": []
  }
 ],
 "metadata": {
  "kernelspec": {
   "display_name": "Python 3",
   "language": "python",
   "name": "python3"
  },
  "language_info": {
   "codemirror_mode": {
    "name": "ipython",
    "version": 3
   },
   "file_extension": ".py",
   "mimetype": "text/x-python",
   "name": "python",
   "nbconvert_exporter": "python",
   "pygments_lexer": "ipython3",
   "version": "3.8.5"
  }
 },
 "nbformat": 4,
 "nbformat_minor": 5
}
