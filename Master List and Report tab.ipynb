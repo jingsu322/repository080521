{
 "cells": [
  {
   "cell_type": "code",
   "execution_count": 1,
   "metadata": {},
   "outputs": [],
   "source": [
    "import numpy as np\n",
    "import pandas as pd"
   ]
  },
  {
   "cell_type": "code",
   "execution_count": 2,
   "metadata": {},
   "outputs": [],
   "source": [
    "# 1. Pull monthly data from Thomasnet Webtrax\n",
    "# 2. Import monthly file & reference file\n",
    "# reference = pd.read_csv('Thomasnet Audience Reference.csv')\n",
    "reference = pd.read_excel('Thomasnet Audience Reference.xlsx')\n",
    "monthly = pd.read_csv('7cm.csv')"
   ]
  },
  {
   "cell_type": "code",
   "execution_count": 3,
   "metadata": {},
   "outputs": [],
   "source": [
    "reference = pd.DataFrame(reference)\n",
    "monthly = pd.DataFrame(monthly)"
   ]
  },
  {
   "cell_type": "code",
   "execution_count": 4,
   "metadata": {},
   "outputs": [
    {
     "data": {
      "text/plain": [
       "RangeIndex(start=0, stop=57, step=1)"
      ]
     },
     "execution_count": 4,
     "metadata": {},
     "output_type": "execute_result"
    }
   ],
   "source": [
    "monthly.index"
   ]
  },
  {
   "cell_type": "code",
   "execution_count": 5,
   "metadata": {},
   "outputs": [
    {
     "data": {
      "text/plain": [
       "Index(['Id', 'Time of Visit', 'Visitor', 'City', 'State/Province', 'Zip',\n",
       "       'Country', 'Industry', 'Employees', 'Annual Sales', 'Pages/Sessions',\n",
       "       'Session Duration', 'Search Term/Category', 'Thomasnet Registered User',\n",
       "       'Your Website Activity', 'Thomasnet Activity', 'Target Audience',\n",
       "       'Viewed High-Value Page', 'Thomasnet.com Submitted RFI',\n",
       "       'Asset Download', 'Thomas Navigator Keyword/Part Number Search',\n",
       "       'Thomas Navigator Advanced Searches/Attribute Column Sorts',\n",
       "       'Thomas Navigator Page Saved to Favorites',\n",
       "       'Thomas Navigator CAD Action', 'Thomas Navigator Compared Item',\n",
       "       'Thomas Navigator Page Emailed', 'Thomas Navigator Printed Page',\n",
       "       'Thomas Navigator Product Service View'],\n",
       "      dtype='object')"
      ]
     },
     "execution_count": 5,
     "metadata": {},
     "output_type": "execute_result"
    }
   ],
   "source": [
    "monthly.columns"
   ]
  },
  {
   "cell_type": "code",
   "execution_count": 6,
   "metadata": {},
   "outputs": [],
   "source": [
    "monthly = monthly.drop_duplicates(subset = ['Visitor'],keep='first')"
   ]
  },
  {
   "cell_type": "code",
   "execution_count": 7,
   "metadata": {},
   "outputs": [],
   "source": [
    "monthly = monthly.drop_duplicates().reset_index(drop=True)"
   ]
  },
  {
   "cell_type": "code",
   "execution_count": 8,
   "metadata": {},
   "outputs": [
    {
     "data": {
      "text/plain": [
       "RangeIndex(start=0, stop=37, step=1)"
      ]
     },
     "execution_count": 8,
     "metadata": {},
     "output_type": "execute_result"
    }
   ],
   "source": [
    "monthly.index"
   ]
  },
  {
   "cell_type": "code",
   "execution_count": 9,
   "metadata": {},
   "outputs": [],
   "source": [
    "# Clean monthly file\n",
    "# a. remove unknown values / gwi / EW\n",
    "monthly = monthly[~monthly.Visitor.str.contains(\"Unknown\")]\n",
    "monthly = monthly[~monthly[\"Visitor\"].isin([\"Green Wave Ingredients\",\"East -West Associates Inc\"])]\n",
    "# b. remove duplicates\n",
    "monthly.drop_duplicates(\"Visitor\",keep='first',inplace=True)"
   ]
  },
  {
   "cell_type": "code",
   "execution_count": 10,
   "metadata": {},
   "outputs": [
    {
     "data": {
      "text/plain": [
       "22"
      ]
     },
     "execution_count": 10,
     "metadata": {},
     "output_type": "execute_result"
    }
   ],
   "source": [
    "b = len(monthly)\n",
    "b"
   ]
  },
  {
   "cell_type": "code",
   "execution_count": 11,
   "metadata": {},
   "outputs": [],
   "source": [
    "# Join two tables based on the daily file\n",
    "df = pd.merge(reference,monthly,how='right')\n",
    "\n",
    "# adjust column name and order\n",
    "df['Visitor_2'] = df['Visitor']\n",
    "df = df[['Visitor_2', 'Potential', 'New', 'Account ID', 'Sales Rep',\n",
    "       'Seller Sales Rep', 'Id', 'Time of Visit', 'Visitor','City', 'State/Province',\n",
    "       'Zip', 'Country', 'Industry', 'Employees', 'Annual Sales',\n",
    "       'Pages/Sessions', 'Session Duration', 'Search Term/Category',\n",
    "       'Thomasnet Registered User', 'Your Website Activity',\n",
    "       'Thomasnet Activity', 'Target Audience', 'Viewed High-Value Page',\n",
    "       'Thomasnet.com Submitted RFI', 'Asset Download',\n",
    "       'Thomas Navigator Keyword/Part Number Search',\n",
    "       'Thomas Navigator Advanced Searches/Attribute Column Sorts',\n",
    "       'Thomas Navigator Page Saved to Favorites',\n",
    "       'Thomas Navigator CAD Action', 'Thomas Navigator Compared Item',\n",
    "       'Thomas Navigator Page Emailed', 'Thomas Navigator Printed Page',\n",
    "       'Thomas Navigator Product Service View' ]]\n",
    "\n",
    "# Replace nan with ''\n",
    "df = df.replace(np.nan, '', regex=True) "
   ]
  },
  {
   "cell_type": "code",
   "execution_count": 12,
   "metadata": {},
   "outputs": [],
   "source": [
    "# Remove duplicates\n",
    "df.drop_duplicates(\"Visitor\",keep='first',inplace=True)"
   ]
  },
  {
   "cell_type": "code",
   "execution_count": 13,
   "metadata": {},
   "outputs": [],
   "source": [
    "# monthly new visitors: visitors' potential require qualification\n",
    "df_new = df[df['Potential'] == '']\n",
    "\n",
    "# df_new[['New Customer']]\n",
    "yes = ['Yes']*len(df_new)\n",
    "df_new.insert(0,'New Customer',yes)\n",
    "refer = ['']*len(df_new)\n",
    "df_new.insert(7,'Referrer',refer)\n",
    "web = ['']*len(df_new)\n",
    "df_new.insert(8,'Website',web)"
   ]
  },
  {
   "cell_type": "code",
   "execution_count": 14,
   "metadata": {},
   "outputs": [],
   "source": [
    "# output\n",
    "df_new.to_csv(\"monthly_new_visitors.csv\",index=False)"
   ]
  },
  {
   "cell_type": "code",
   "execution_count": 15,
   "metadata": {},
   "outputs": [],
   "source": [
    "# monthly master list output\n",
    "df_master_q = df[df['Potential'] != '']\n",
    "df_master_q.to_csv(\"monthly_master_list_quailified.csv\",index=False)"
   ]
  },
  {
   "cell_type": "code",
   "execution_count": 16,
   "metadata": {},
   "outputs": [
    {
     "data": {
      "text/plain": [
       "22"
      ]
     },
     "execution_count": 16,
     "metadata": {},
     "output_type": "execute_result"
    }
   ],
   "source": [
    "# Identifiable Audience - Unique Company (User)\n",
    "uc = len(df)\n",
    "uc"
   ]
  },
  {
   "cell_type": "code",
   "execution_count": 17,
   "metadata": {},
   "outputs": [
    {
     "data": {
      "text/plain": [
       "13"
      ]
     },
     "execution_count": 17,
     "metadata": {},
     "output_type": "execute_result"
    }
   ],
   "source": [
    "# Identifiable Audience - Unique Targeted Audience\n",
    "df_uta = df[~df['Potential'].isin(['No potential'])]\n",
    "uta = len(df_uta)\n",
    "uta"
   ]
  },
  {
   "cell_type": "code",
   "execution_count": 18,
   "metadata": {},
   "outputs": [
    {
     "data": {
      "text/plain": [
       "0"
      ]
     },
     "execution_count": 18,
     "metadata": {},
     "output_type": "execute_result"
    }
   ],
   "source": [
    "# New Unique Targeted Audience\n",
    "new_df_uta = df[df['New'].isin(['Yes'])]\n",
    "new_uta = len(new_df_uta)\n",
    "new_uta"
   ]
  },
  {
   "cell_type": "code",
   "execution_count": 19,
   "metadata": {},
   "outputs": [
    {
     "data": {
      "text/plain": [
       "13"
      ]
     },
     "execution_count": 19,
     "metadata": {},
     "output_type": "execute_result"
    }
   ],
   "source": [
    "# Existed Unique Targeted Audience\n",
    "ex_uta = uta - new_uta\n",
    "ex_uta"
   ]
  },
  {
   "cell_type": "code",
   "execution_count": 20,
   "metadata": {},
   "outputs": [],
   "source": [
    "# Referred from Thomasnet (Session)\n",
    "\n",
    "# Identifiable Audience - Unique Company (User)\n",
    "t_df = df[df['Thomasnet Activity'].isin(['Y'])]\n",
    "t_uc = len(t_df)\n",
    "\n",
    "# Identifiable Audience - Unique Targeted Audience\n",
    "t_df_uta = t_df[~t_df['Potential'].isin(['No potential'])]\n",
    "t_uta = len(t_df_uta)\n",
    "\n",
    "# New Unique Targeted Audience\n",
    "t_df_new = t_df[t_df['New'].isin(['Yes'])]\n",
    "t_new = len(t_df_new)\n",
    "\n",
    "# Existed Unique Targeted Audience\n",
    "t_ex = t_uta - t_new"
   ]
  },
  {
   "cell_type": "code",
   "execution_count": 21,
   "metadata": {},
   "outputs": [
    {
     "name": "stdout",
     "output_type": "stream",
     "text": [
      "# of Identifiable Audience - Unique Company (User): 22\n",
      "# of Identifiable Audience - Unique Targeted Audience: 13\n",
      "# of New Unique Targeted Audience: 0\n",
      "# of Existed Unique Targeted Audience: 13\n"
     ]
    }
   ],
   "source": [
    "print(\"# of Identifiable Audience - Unique Company (User): {}\".format(uc))\n",
    "print(\"# of Identifiable Audience - Unique Targeted Audience: {}\".format(uta))\n",
    "print(\"# of New Unique Targeted Audience: {}\".format(new_uta))\n",
    "print(\"# of Existed Unique Targeted Audience: {}\".format(ex_uta))"
   ]
  },
  {
   "cell_type": "code",
   "execution_count": 22,
   "metadata": {},
   "outputs": [
    {
     "name": "stdout",
     "output_type": "stream",
     "text": [
      "Referred from Thomasnet (Session): # of Identifiable Audience - Unique Company (User): 1\n",
      "Referred from Thomasnet (Session): # of Identifiable Audience - Unique Targeted Audience: 1\n",
      "Referred from Thomasnet (Session): # of New Unique Targeted Audience: 0\n",
      "Referred from Thomasnet (Session): # of Existed Unique Targeted Audience: 1\n"
     ]
    }
   ],
   "source": [
    "print(\"Referred from Thomasnet (Session): # of Identifiable Audience - Unique Company (User): {}\".format(t_uc))\n",
    "print(\"Referred from Thomasnet (Session): # of Identifiable Audience - Unique Targeted Audience: {}\".format(t_uta))\n",
    "print(\"Referred from Thomasnet (Session): # of New Unique Targeted Audience: {}\".format(t_new))\n",
    "print(\"Referred from Thomasnet (Session): # of Existed Unique Targeted Audience: {}\".format(t_ex))"
   ]
  },
  {
   "cell_type": "code",
   "execution_count": null,
   "metadata": {},
   "outputs": [],
   "source": []
  }
 ],
 "metadata": {
  "kernelspec": {
   "display_name": "Python 3",
   "language": "python",
   "name": "python3"
  },
  "language_info": {
   "codemirror_mode": {
    "name": "ipython",
    "version": 3
   },
   "file_extension": ".py",
   "mimetype": "text/x-python",
   "name": "python",
   "nbconvert_exporter": "python",
   "pygments_lexer": "ipython3",
   "version": "3.8.5"
  }
 },
 "nbformat": 4,
 "nbformat_minor": 4
}
